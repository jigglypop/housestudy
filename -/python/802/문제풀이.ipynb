{
 "cells": [
  {
   "cell_type": "markdown",
   "metadata": {},
   "source": [
    "\n",
    "예시 문제 1. 이상한 덧셈 - ex01.py \n",
    "리스트 numbers에 담겨있는 숫자들 중, 양의 정수들의 합을 반환하는 positive_sum 함수를 작 성하시오.\n"
   ]
  },
  {
   "cell_type": "code",
   "execution_count": null,
   "metadata": {},
   "outputs": [],
   "source": [
    "a = [1,2]\n",
    "print(a)"
   ]
  },
  {
   "cell_type": "code",
   "execution_count": null,
   "metadata": {},
   "outputs": [],
   "source": [
    "def positive_sum(numbers):\n",
    "    print(numbers)\n",
    "    r = [i for i in numbers if i > 0]\n",
    "    \n",
    "    \n",
    "    \n"
   ]
  },
  {
   "cell_type": "code",
   "execution_count": null,
   "metadata": {},
   "outputs": [],
   "source": [
    "# 예시 입력 및 출력 \n",
    "print(positive_sum([1, -4, 7, 12])) \n",
    "print(positive_sum([-1, -2, -3, -4]))\n"
   ]
  },
  {
   "cell_type": "markdown",
   "metadata": {},
   "source": [
    "아래와 같이 수식 문자열이 주어졌을 때, 이를 계산을 해주는 calc 함수를 작성하시오. 이 계산기는 덧셈과 뺄셈만 가능하다.\n"
   ]
  },
  {
   "cell_type": "code",
   "execution_count": 7,
   "metadata": {},
   "outputs": [],
   "source": [
    "def calc(equation):\n",
    "    r = 0\n",
    "    t = ''\n",
    "    for i in equation:\n",
    "        if t and not i.isdecimal():\n",
    "            r += int(t)\n",
    "            t = ''\n",
    "        t += i\n",
    "    return r + int(t)\n"
   ]
  },
  {
   "cell_type": "code",
   "execution_count": 8,
   "metadata": {},
   "outputs": [
    {
     "name": "stdout",
     "output_type": "stream",
     "text": [
      "1\n",
      "1212\n",
      "0\n"
     ]
    }
   ],
   "source": [
    "print(calc('123+2-124')) \n",
    "print(calc('-12+12-7979+9191')) \n",
    "print(calc('+1-1+1-1+1-1+1-1+1-1+1-1+1-1+1-1+1-1+1-1+1-1+1-1+1-1+1-1+1-1+1-1'))\n"
   ]
  },
  {
   "cell_type": "markdown",
   "metadata": {},
   "source": [
    "파이썬 클래스를 활용하여 꼭지점과 원을 표현하시오. \n",
    "Point 클래스에 대한 명세는 다음과 같습니다. \n",
    "인스턴스가 생성될 때, 정수 두 개(좌표 값)를 인자로 받아 생성됩니다. \n",
    "각각 인스턴스 변수명은  x , y 입니다.\n"
   ]
  },
  {
   "cell_type": "code",
   "execution_count": null,
   "metadata": {},
   "outputs": [],
   "source": [
    "# 예) 좌표 (3, 5)의 점 \n",
    "p1 = Point(3, 5) \n",
    "print(p1) #=> Point:(3,5)"
   ]
  },
  {
   "cell_type": "code",
   "execution_count": 364,
   "metadata": {},
   "outputs": [],
   "source": [
    "class Point:\n",
    "    def __init__(self,x,y):\n",
    "        self.x = x\n",
    "        self.y = y\n",
    "    def __str__(self):\n",
    "        return f'Point:({self.x},{self.y})'"
   ]
  },
  {
   "cell_type": "code",
   "execution_count": 365,
   "metadata": {},
   "outputs": [
    {
     "name": "stdout",
     "output_type": "stream",
     "text": [
      "Point:(0,0)\n"
     ]
    }
   ],
   "source": [
    "p1 = Point(0,0)\n",
    "\n",
    "print(p1)"
   ]
  },
  {
   "cell_type": "code",
   "execution_count": 528,
   "metadata": {},
   "outputs": [],
   "source": [
    "class Circle:\n",
    "    def __init__(self,center,r):\n",
    "        self.center = center\n",
    "        self.r = r\n",
    "        \n",
    "    def get_area(self):\n",
    "        return (self.r)**2 * 3.14\n",
    "        \n",
    "    def get_perimeter(self):\n",
    "        return self.r * 2 * 3.14\n",
    "   \n",
    "    def get_center(self):\n",
    "        return self.center.x, self.center.y\n",
    "    \n",
    "    def __str__(self):\n",
    "        return f'Circle:({self.center.x}, {self.center.y}),r:{self.r}'"
   ]
  },
  {
   "cell_type": "code",
   "execution_count": 527,
   "metadata": {},
   "outputs": [
    {
     "name": "stdout",
     "output_type": "stream",
     "text": [
      "18.84\n",
      "28.26\n",
      "(0, 0)\n",
      "Circle:(0, 0),r:3\n",
      "3.14\n",
      "6.28\n",
      "(4, 5)\n",
      "Circle:(4, 5),r:1\n"
     ]
    }
   ],
   "source": [
    "c1 = Circle(p1, 3)\n",
    "print(c1.get_perimeter())\n",
    "print(c1.get_area())\n",
    "print(c1.get_center())\n",
    "print(c1)\n",
    "p2 = Point(4, 5) \n",
    "c2 = Circle(p2, 1) \n",
    "print(c2.get_area()) \n",
    "print(c2.get_perimeter()) \n",
    "print(c2.get_center()) \n",
    "print(c2)"
   ]
  },
  {
   "cell_type": "code",
   "execution_count": null,
   "metadata": {},
   "outputs": [],
   "source": []
  }
 ],
 "metadata": {
  "kernelspec": {
   "display_name": "Python 3",
   "language": "python",
   "name": "python3"
  },
  "language_info": {
   "codemirror_mode": {
    "name": "ipython",
    "version": 3
   },
   "file_extension": ".py",
   "mimetype": "text/x-python",
   "name": "python",
   "nbconvert_exporter": "python",
   "pygments_lexer": "ipython3",
   "version": "3.7.3"
  }
 },
 "nbformat": 4,
 "nbformat_minor": 2
}
