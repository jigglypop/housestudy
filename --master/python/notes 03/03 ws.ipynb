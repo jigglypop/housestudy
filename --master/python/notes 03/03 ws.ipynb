{
 "cells": [
  {
   "cell_type": "markdown",
   "metadata": {},
   "source": [
    "# 회문"
   ]
  },
  {
   "cell_type": "code",
   "execution_count": null,
   "metadata": {},
   "outputs": [],
   "source": [
    "def P(s):\n",
    "\n",
    "    Q = []\n",
    "    S = []\n",
    "\n",
    "    for x in s:\n",
    "        if x.isalpha():\n",
    "            Q.append(x.lower())\n",
    "            S.append(x.lower())\n",
    "    while Q:\n",
    "        if Q.pop(0) != S.pop():\n",
    "            return False        \n",
    "    return True\n",
    "\n",
    "n = input()\n",
    "print(P(n))"
   ]
  },
  {
   "cell_type": "code",
   "execution_count": 2,
   "metadata": {},
   "outputs": [
    {
     "name": "stdout",
     "output_type": "stream",
     "text": [
      "True\n"
     ]
    }
   ],
   "source": [
    "s = '토마토'\n",
    "\n",
    "def P(s):\n",
    "    for i in range(len(s)//2):\n",
    "        # 단어의 처음 - 끝을 비교해서 같으면, \n",
    "        if s[i] == s[-i-1]:\n",
    "            continue\n",
    "        # 다르면, 회문이 아니니까 False 리턴하고 더이상 확인하지 않는다.\n",
    "        else:\n",
    "            return False\n",
    "    # 다 끝나면, 회문이 맞으니까 True 리턴\n",
    "    return True\n",
    "        \n",
    "print(P(s))"
   ]
  },
  {
   "cell_type": "code",
   "execution_count": 3,
   "metadata": {},
   "outputs": [
    {
     "name": "stdout",
     "output_type": "stream",
     "text": [
      "True\n"
     ]
    }
   ],
   "source": [
    "s = '토마토'\n",
    "\n",
    "def P(s):\n",
    "    for i in range(len(s)//2):       \n",
    "        if s[i] != s[-i-1]:\n",
    "            False        \n",
    "    return True\n",
    "        \n",
    "print(P(s))"
   ]
  },
  {
   "cell_type": "code",
   "execution_count": 5,
   "metadata": {},
   "outputs": [
    {
     "name": "stdout",
     "output_type": "stream",
     "text": [
      "True\n"
     ]
    }
   ],
   "source": [
    "s = '토마토'\n",
    "\n",
    "def P(s):\n",
    "    return list(reversed(s)) == list(s)\n",
    "print(P(s))"
   ]
  },
  {
   "cell_type": "code",
   "execution_count": 6,
   "metadata": {},
   "outputs": [
    {
     "data": {
      "text/plain": [
       "'토마토'"
      ]
     },
     "execution_count": 6,
     "metadata": {},
     "output_type": "execute_result"
    }
   ],
   "source": [
    "s[::-1]"
   ]
  }
 ],
 "metadata": {
  "kernelspec": {
   "display_name": "Python 3",
   "language": "python",
   "name": "python3"
  },
  "language_info": {
   "codemirror_mode": {
    "name": "ipython",
    "version": 3
   },
   "file_extension": ".py",
   "mimetype": "text/x-python",
   "name": "python",
   "nbconvert_exporter": "python",
   "pygments_lexer": "ipython3",
   "version": "3.7.3"
  },
  "toc": {
   "base_numbering": 1,
   "nav_menu": {},
   "number_sections": true,
   "sideBar": true,
   "skip_h1_title": false,
   "title_cell": "Table of Contents",
   "title_sidebar": "Contents",
   "toc_cell": false,
   "toc_position": {},
   "toc_section_display": true,
   "toc_window_display": false
  }
 },
 "nbformat": 4,
 "nbformat_minor": 2
}
